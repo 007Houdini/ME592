{
 "cells": [
  {
   "cell_type": "code",
   "execution_count": 53,
   "id": "408b8f4e",
   "metadata": {},
   "outputs": [],
   "source": [
    "import os\n",
    "import cv2 as cv\n",
    "import numpy as np\n",
    "from skimage.transform import resize, rotate, warp\n",
    "from random import randint, uniform"
   ]
  },
  {
   "cell_type": "code",
   "execution_count": 54,
   "id": "57fdf3b7",
   "metadata": {},
   "outputs": [],
   "source": [
    "folder_path = 'AgandBio\\leaves'\n",
    "files = os.listdir(folder_path)\n",
    "num_images = 100"
   ]
  },
  {
   "cell_type": "code",
   "execution_count": 55,
   "id": "cae88e72",
   "metadata": {},
   "outputs": [],
   "source": [
    "rotation_range = (-45, 45)\n",
    "shift_range = (-50, 50)\n",
    "scale_range = (0.5, 1.5)\n",
    "distortion_range = (0.1, 0.5)"
   ]
  },
  {
   "cell_type": "code",
   "execution_count": 56,
   "id": "b118ad93",
   "metadata": {},
   "outputs": [
    {
     "name": "stdout",
     "output_type": "stream",
     "text": [
      "AgandBio\\leaves\\I1.png\n",
      "AgandBio\\leaves\\I2.png\n",
      "AgandBio\\leaves\\I3.png\n",
      "AgandBio\\leaves\\I4.png\n",
      "AgandBio\\leaves\\I5.png\n",
      "AgandBio\\leaves\\I6.png\n",
      "AgandBio\\leaves\\I7.png\n",
      "AgandBio\\leaves\\I8.png\n"
     ]
    }
   ],
   "source": [
    "for filename in files:\n",
    "    imgPath = os.path.join(folder_path, filename)\n",
    "    print(imgPath)\n",
    "\n",
    "    img = cv2.imread(imgPath)\n",
    "    cv.imshow('image',img)\n",
    "    cv.waitKey(0)\n",
    "cv.destroyAllWindows()"
   ]
  },
  {
   "cell_type": "code",
   "execution_count": 59,
   "id": "a49aa2f0",
   "metadata": {},
   "outputs": [],
   "source": [
    "for i in range(num_images):\n",
    "        transformation = np.random.choice(['rotate', 'shift', 'scale', 'warp'])\n",
    "\n",
    "        if transformation == 'rotate':\n",
    "            degree = randint(*rotation_range)\n",
    "            img_new = rotate(img, degree)\n",
    "\n",
    "        if transformation == 'rotate':\n",
    "        \n",
    "            degree = randint(*rotation_range)\n",
    "            img_new = rotate(img, degree)\n",
    "\n",
    "        elif transformation == 'shift':\n",
    "  \n",
    "            x = randint(*shift_range)\n",
    "            y = randint(*shift_range)\n",
    "            tform = np.array([[1, 0, x], [0, 1, y], [0, 0, 1]])\n",
    "            img_new = warp(img, tform)\n",
    "\n",
    "        elif transformation == 'scale':\n",
    "\n",
    "            scale_factor = uniform(*scale_range)\n",
    "            img_new = resize(img, (int(img.shape[0]*scale_factor), int(img.shape[1]*scale_factor)), mode='reflect')\n",
    "\n",
    "        else:\n",
    "            \n",
    "            amount = uniform(*distortion_range)\n",
    "            tform = np.random.normal(0, amount, (3, 3))\n",
    "            tform[2, 2] = 1\n",
    "            img_new = warp(img, tform)"
   ]
  },
  {
   "cell_type": "code",
   "execution_count": 60,
   "id": "55450b60",
   "metadata": {},
   "outputs": [],
   "source": [
    "cv.imshow('Image',img_new)\n",
    "cv.waitKey(0)\n",
    "cv.destroyAllWindows()"
   ]
  },
  {
   "cell_type": "code",
   "execution_count": null,
   "id": "83ba2893",
   "metadata": {},
   "outputs": [],
   "source": []
  }
 ],
 "metadata": {
  "kernelspec": {
   "display_name": "Python 3 (ipykernel)",
   "language": "python",
   "name": "python3"
  },
  "language_info": {
   "codemirror_mode": {
    "name": "ipython",
    "version": 3
   },
   "file_extension": ".py",
   "mimetype": "text/x-python",
   "name": "python",
   "nbconvert_exporter": "python",
   "pygments_lexer": "ipython3",
   "version": "3.9.13"
  }
 },
 "nbformat": 4,
 "nbformat_minor": 5
}
