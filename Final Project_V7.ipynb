{
 "cells": [
  {
   "cell_type": "markdown",
   "id": "f668866b-3d18-4cdb-982c-7620c2310277",
   "metadata": {},
   "source": [
    "# ME 592 Final Project\n",
    "## Jake Bergfeld, Mohammad Rashid Mohammad Shoaib\n",
    "#### Engineering Image Analysis - Automated Chest X-ray classifier"
   ]
  },
  {
   "cell_type": "markdown",
   "id": "c23bf84f-aa9b-4c03-a813-0cc567b7eb1d",
   "metadata": {
    "jp-MarkdownHeadingCollapsed": true,
    "tags": []
   },
   "source": [
    "##### Gathering data from Kaggle - Link to data: https://www.kaggle.com/datasets/paultimothymooney/chest-xray-pneumonia"
   ]
  },
  {
   "cell_type": "code",
   "execution_count": 1,
   "id": "f366cb74-6968-4bdc-a682-809936a7fd53",
   "metadata": {},
   "outputs": [],
   "source": [
    "# !pip install kaggle\n",
    "# !mkdir .kaggle  #naming required by kaggle API, creates a hidden folder\n",
    "# !cp /home/exouser/Downloads/kaggle.json /home/exouser/.kaggle/kaggle.json"
   ]
  },
  {
   "cell_type": "markdown",
   "id": "af339634-b8fb-4500-afb5-9e10930a4faf",
   "metadata": {
    "jp-MarkdownHeadingCollapsed": true,
    "tags": []
   },
   "source": [
    "##### <u>Confirming location of Kaggle API token was moved successfully"
   ]
  },
  {
   "cell_type": "code",
   "execution_count": 2,
   "id": "d0b17d81-48f1-4ffc-9742-ec0efc1bb5d6",
   "metadata": {},
   "outputs": [],
   "source": [
    "# !cd .kaggle && ls"
   ]
  },
  {
   "cell_type": "markdown",
   "id": "1f93d62f-8c6e-4a4e-b854-fd3f45e0d627",
   "metadata": {
    "tags": []
   },
   "source": [
    "##### <u>Downloading the specific dataset and confirming locations"
   ]
  },
  {
   "cell_type": "code",
   "execution_count": 185,
   "id": "52f27c40-28c7-4ea4-9997-f23b63576322",
   "metadata": {},
   "outputs": [],
   "source": [
    "# !kaggle datasets list -s 'Chest X-ray images'"
   ]
  },
  {
   "cell_type": "code",
   "execution_count": 4,
   "id": "908d63c8-fd0f-42dd-8d85-5d3f2498ceba",
   "metadata": {},
   "outputs": [],
   "source": [
    "# !kaggle datasets download -d 'paultimothymooney/chest-xray-pneumonia'"
   ]
  },
  {
   "cell_type": "code",
   "execution_count": 5,
   "id": "d4e555fa-03f7-4ac1-96db-d09b39dceb45",
   "metadata": {},
   "outputs": [],
   "source": [
    "# !sudo apt-get install unzip\n",
    "# !unzip chest-xray-pneumonia.zip /home/exouser/ME592/Final Project"
   ]
  },
  {
   "cell_type": "markdown",
   "id": "8754332c-ab4c-4fe1-b78c-9badb0ef26d9",
   "metadata": {
    "jp-MarkdownHeadingCollapsed": true,
    "tags": []
   },
   "source": [
    "### <u>Data Information: "
   ]
  },
  {
   "cell_type": "markdown",
   "id": "af1e33ac-8e2d-45b2-9e5a-f9e47b7bf167",
   "metadata": {
    "tags": []
   },
   "source": [
    "### Input image size varies\n",
    "    \n",
    "##### The 2 classes to predict are:\n",
    " - Normal/Healthy lungs\n",
    " - Pneumonia"
   ]
  },
  {
   "cell_type": "markdown",
   "id": "f816f658-c0b1-4857-b150-09636a3176f3",
   "metadata": {
    "tags": []
   },
   "source": [
    "##### *Formula to calculate the number of parameters in a CNN:*\n",
    "   -  Convolutional layer: (in_channels x out_channels x kernel_height x kernel_width) + out_channels\n",
    "   -  Batch normalization layer: 2 x num_features\n",
    "   -  ReLU activation layer: 0 (no parameters)\n",
    "   -  Max pooling layer: 0 (no parameters)\n",
    "   -  Fully connected layer: (in_features x out_features) + out_features"
   ]
  },
  {
   "cell_type": "markdown",
   "id": "3191612b-b2f7-49bc-9511-95e7af33e161",
   "metadata": {
    "tags": []
   },
   "source": [
    "### <u>Library Imports & Transforming Data"
   ]
  },
  {
   "cell_type": "code",
   "execution_count": 1,
   "id": "e8848819",
   "metadata": {},
   "outputs": [],
   "source": [
    "#Load libraries\n",
    "import os\n",
    "import numpy as np\n",
    "import torch\n",
    "import glob\n",
    "import torch.nn as nn\n",
    "from torchvision.transforms import transforms\n",
    "from torch.utils.data import DataLoader\n",
    "from torch.optim import Adam\n",
    "from torch.autograd import Variable\n",
    "import torchvision\n",
    "import pathlib\n",
    "import shutil\n",
    "import random"
   ]
  },
  {
   "cell_type": "code",
   "execution_count": 2,
   "id": "98d72611",
   "metadata": {},
   "outputs": [
    {
     "name": "stdout",
     "output_type": "stream",
     "text": [
      "cuda\n"
     ]
    }
   ],
   "source": [
    "#checking for device\n",
    "device=torch.device('cuda' if torch.cuda.is_available() else 'cpu')\n",
    "print(device)\n",
    "torch.cuda.empty_cache()"
   ]
  },
  {
   "cell_type": "code",
   "execution_count": 33,
   "id": "3068b3d2",
   "metadata": {},
   "outputs": [],
   "source": [
    "#Transform the input images\n",
    "transformer=transforms.Compose([\n",
    "    transforms.Resize((150,150)),\n",
    "    transforms.RandomHorizontalFlip(),\n",
    "    transforms.ToTensor(),  #0-255 to 0-1, numpy to tensors\n",
    "    transforms.Normalize([0.5,0.5,0.5], # 0-1 to [-1,1] , formula (x-mean)/std\n",
    "                        [0.5,0.5,0.5])\n",
    "])"
   ]
  },
  {
   "cell_type": "markdown",
   "id": "6737a4a2-0e5e-4138-93cc-2708be9b71b5",
   "metadata": {
    "tags": []
   },
   "source": [
    "### <u>Dataloader and Pre-training"
   ]
  },
  {
   "cell_type": "code",
   "execution_count": 34,
   "id": "23f61d59",
   "metadata": {},
   "outputs": [],
   "source": [
    "#Create a dataloader\n",
    "\n",
    "#Directory path for the training & test images\n",
    "train_path='/home/exouser/ME592/Final Project/chest-xray-pneumonia/train'\n",
    "test_path='/home/exouser/ME592/Final Project/chest-xray-pneumonia/test'\n",
    "\n",
    "train_loader=DataLoader(\n",
    "    torchvision.datasets.ImageFolder(train_path,transform=transformer),\n",
    "    batch_size=16, shuffle=True\n",
    ")\n",
    "test_loader=DataLoader(\n",
    "    torchvision.datasets.ImageFolder(test_path,transform=transformer),\n",
    "    batch_size=16, shuffle=True\n",
    ") \n"
   ]
  },
  {
   "cell_type": "code",
   "execution_count": 35,
   "id": "1451f45c",
   "metadata": {},
   "outputs": [
    {
     "name": "stdout",
     "output_type": "stream",
     "text": [
      "['NORMAL', 'PNEUMONIA']\n"
     ]
    }
   ],
   "source": [
    "#categories\n",
    "root=pathlib.Path(train_path)\n",
    "classes=sorted([j.name.split('/')[-1] for j in root.iterdir()])\n",
    "print(classes)\n"
   ]
  },
  {
   "cell_type": "markdown",
   "id": "7a48aa72-d6a0-4fbc-a032-0466c2def2d2",
   "metadata": {
    "tags": []
   },
   "source": [
    "### <u>Step 1: Build and train a CNN model"
   ]
  },
  {
   "cell_type": "code",
   "execution_count": 36,
   "id": "0f66a126-b1d8-437b-b35c-ba0687eebf61",
   "metadata": {},
   "outputs": [],
   "source": [
    "class ConvNet(nn.Module):\n",
    "    def __init__(self, num_classes=2):\n",
    "        super(ConvNet, self).__init__()\n",
    "\n",
    "        self.conv1 = nn.Conv2d(in_channels=3, out_channels=32, kernel_size=3, stride=1, padding=1)\n",
    "        self.bn1 = nn.BatchNorm2d(num_features=32)\n",
    "        self.relu1 = nn.ReLU()\n",
    "\n",
    "        self.pool = nn.MaxPool2d(kernel_size=2)\n",
    "\n",
    "        self.conv2 = nn.Conv2d(in_channels=32, out_channels=64, kernel_size=3, stride=1, padding=1)\n",
    "        self.bn2 = nn.BatchNorm2d(num_features=64)\n",
    "        self.relu2 = nn.ReLU()\n",
    "\n",
    "        self.conv3 = nn.Conv2d(in_channels=64, out_channels=128, kernel_size=3, stride=1, padding=1)\n",
    "        self.bn3 = nn.BatchNorm2d(num_features=128)\n",
    "        self.relu3 = nn.ReLU()\n",
    "\n",
    "        self.fc1 = nn.Linear(in_features=128 * 18 * 18, out_features=1024)\n",
    "        self.relu4 = nn.ReLU()\n",
    "\n",
    "        self.fc2 = nn.Linear(in_features=1024, out_features=num_classes)\n",
    "\n",
    "    def forward(self, input):\n",
    "        output = self.conv1(input)\n",
    "        output = self.bn1(output)\n",
    "        output = self.relu1(output)\n",
    "        output = self.pool(output)\n",
    "\n",
    "        output = self.conv2(output)\n",
    "        output = self.bn2(output)\n",
    "        output = self.relu2(output)\n",
    "        output = self.pool(output)\n",
    "\n",
    "        output = self.conv3(output)\n",
    "        output = self.bn3(output)\n",
    "        output = self.relu3(output)\n",
    "        output = self.pool(output)\n",
    "\n",
    "        output = output.view(-1, 128 * 18 * 18)\n",
    "        output = self.fc1(output)\n",
    "        output = self.relu4(output)\n",
    "        output = self.fc2(output)\n",
    "        \n",
    "        #Final layer can be a sigmoid activation layer since only using 2 classes. This will help push the network, on/off functionality. Should help with test acc\n",
    "\n",
    "        return output\n",
    "        "
   ]
  },
  {
   "cell_type": "code",
   "execution_count": 37,
   "id": "46da7c29-acae-480a-99b1-9db90d797efe",
   "metadata": {},
   "outputs": [],
   "source": [
    "model=ConvNet(num_classes=2).to(device)"
   ]
  },
  {
   "cell_type": "code",
   "execution_count": 38,
   "id": "45426278-69e0-4594-8f61-2daebb00c514",
   "metadata": {},
   "outputs": [],
   "source": [
    "#Optmizer and loss function\n",
    "optimizer=Adam(model.parameters(),lr=0.003,weight_decay=0.0001)\n",
    "loss_function=nn.CrossEntropyLoss()\n",
    "# loss_function=nn.BCELoss()\n",
    "#Since binary problem, can use Binary cross entropy function instead to perform the sigmoid entropy automatically (numerical stability)"
   ]
  },
  {
   "cell_type": "code",
   "execution_count": 39,
   "id": "72f44e2a-937d-4915-9110-0adb7a0e3d0e",
   "metadata": {},
   "outputs": [],
   "source": [
    "num_epochs=20"
   ]
  },
  {
   "cell_type": "code",
   "execution_count": 40,
   "id": "8bb34ac1-2e0e-4459-9d90-b8f6866b61fd",
   "metadata": {},
   "outputs": [],
   "source": [
    "#calculating the size of training and testing images\n",
    "train_count=len(glob.glob(train_path+'/**/*.jpeg'))\n",
    "test_count=len(glob.glob(test_path+'/**/*.jpeg'))"
   ]
  },
  {
   "cell_type": "code",
   "execution_count": 41,
   "id": "0a70464a-7d9b-4734-b181-9c5cfb826d86",
   "metadata": {},
   "outputs": [
    {
     "name": "stdout",
     "output_type": "stream",
     "text": [
      "5216\n",
      "624\n"
     ]
    }
   ],
   "source": [
    "print(train_count)\n",
    "print(test_count)"
   ]
  },
  {
   "cell_type": "code",
   "execution_count": 42,
   "id": "cab5110d-39bd-4ed1-8acf-3a8a08912132",
   "metadata": {},
   "outputs": [],
   "source": [
    "train_acc_list = []\n",
    "test_acc_list = []\n",
    "loss_list = []"
   ]
  },
  {
   "cell_type": "code",
   "execution_count": 43,
   "id": "12fa5655-120b-41c0-b1d7-4ccb6769efb0",
   "metadata": {},
   "outputs": [
    {
     "name": "stdout",
     "output_type": "stream",
     "text": [
      "Epoch: 0 Train Loss: tensor(2.0177) Train Accuracy: 0.9292561349693251 Test Accuracy: 0.7980769230769231\n",
      "Epoch: 1 Train Loss: tensor(0.1077) Train Accuracy: 0.9616564417177914 Test Accuracy: 0.7131410256410257\n",
      "Epoch: 2 Train Loss: tensor(0.1108) Train Accuracy: 0.9559049079754601 Test Accuracy: 0.7996794871794872\n",
      "Epoch: 3 Train Loss: tensor(0.0881) Train Accuracy: 0.9683665644171779 Test Accuracy: 0.6778846153846154\n",
      "Epoch: 4 Train Loss: tensor(0.0973) Train Accuracy: 0.964340490797546 Test Accuracy: 0.6810897435897436\n",
      "Epoch: 5 Train Loss: tensor(0.1252) Train Accuracy: 0.9570552147239264 Test Accuracy: 0.8253205128205128\n",
      "Epoch: 6 Train Loss: tensor(0.1156) Train Accuracy: 0.9616564417177914 Test Accuracy: 0.7724358974358975\n",
      "Epoch: 7 Train Loss: tensor(0.1500) Train Accuracy: 0.9593558282208589 Test Accuracy: 0.7291666666666666\n",
      "Epoch: 8 Train Loss: tensor(0.0881) Train Accuracy: 0.9691334355828221 Test Accuracy: 0.7419871794871795\n",
      "Epoch: 9 Train Loss: tensor(0.0607) Train Accuracy: 0.9768021472392638 Test Accuracy: 0.7788461538461539\n",
      "Epoch: 10 Train Loss: tensor(0.0695) Train Accuracy: 0.9723926380368099 Test Accuracy: 0.6971153846153846\n",
      "Epoch: 11 Train Loss: tensor(0.0873) Train Accuracy: 0.9693251533742331 Test Accuracy: 0.7419871794871795\n",
      "Epoch: 12 Train Loss: tensor(0.1523) Train Accuracy: 0.9658742331288344 Test Accuracy: 0.719551282051282\n",
      "Epoch: 13 Train Loss: tensor(0.0652) Train Accuracy: 0.9768021472392638 Test Accuracy: 0.780448717948718\n",
      "Epoch: 14 Train Loss: tensor(0.0635) Train Accuracy: 0.9739263803680982 Test Accuracy: 0.7467948717948718\n",
      "Epoch: 15 Train Loss: tensor(0.0588) Train Accuracy: 0.9814033742331288 Test Accuracy: 0.7131410256410257\n",
      "Epoch: 16 Train Loss: tensor(0.0638) Train Accuracy: 0.9781441717791411 Test Accuracy: 0.7612179487179487\n",
      "Epoch: 17 Train Loss: tensor(0.0744) Train Accuracy: 0.9758435582822086 Test Accuracy: 0.6826923076923077\n",
      "Epoch: 18 Train Loss: tensor(0.0625) Train Accuracy: 0.9764187116564417 Test Accuracy: 0.657051282051282\n",
      "Epoch: 19 Train Loss: tensor(0.0608) Train Accuracy: 0.9764187116564417 Test Accuracy: 0.7323717948717948\n"
     ]
    }
   ],
   "source": [
    "#Model training and saving best model\n",
    "\n",
    "best_accuracy=0.0\n",
    "\n",
    "for epoch in range(num_epochs):\n",
    "    \n",
    "    #Evaluation and training on training dataset\n",
    "    model.train()\n",
    "    train_accuracy=0.0\n",
    "    train_loss=0.0\n",
    "    \n",
    "    for i, (images,labels) in enumerate(train_loader):\n",
    "        if torch.cuda.is_available():\n",
    "            images=Variable(images.cuda())\n",
    "            labels=Variable(labels.cuda())\n",
    "            \n",
    "        optimizer.zero_grad()\n",
    "        \n",
    "        outputs=model(images)\n",
    "        loss=loss_function(outputs,labels)\n",
    "        loss.backward()\n",
    "        optimizer.step()\n",
    "        \n",
    "        \n",
    "        train_loss+= loss.cpu().data*images.size(0)\n",
    "        _,prediction=torch.max(outputs.data,1)\n",
    "        \n",
    "        train_accuracy+=int(torch.sum(prediction==labels.data))\n",
    "        \n",
    "    train_accuracy=train_accuracy/train_count\n",
    "    train_loss=train_loss/train_count\n",
    "    \n",
    "    # print('Epoch: '+str(epoch)+' Train Loss: '+str(train_loss)+' Train Accuracy: '+str(train_accuracy))\n",
    "\n",
    "    \n",
    "    # Evaluation on testing dataset\n",
    "    model.eval()\n",
    "    \n",
    "    test_accuracy=0.0\n",
    "    for i, (images,labels) in enumerate(test_loader):\n",
    "        if torch.cuda.is_available():\n",
    "            images=Variable(images.cuda())\n",
    "            labels=Variable(labels.cuda())\n",
    "            \n",
    "        outputs=model(images)\n",
    "        _,prediction=torch.max(outputs.data,1)\n",
    "        test_accuracy+=int(torch.sum(prediction==labels.data))\n",
    "    \n",
    "    test_accuracy=test_accuracy/test_count\n",
    "    \n",
    "    print('Epoch: '+str(epoch)+' Train Loss: '+str(train_loss)+' Train Accuracy: '+str(train_accuracy)+' Test Accuracy: '+str(test_accuracy))\n",
    "\n",
    "    train_acc_list.append(train_accuracy)\n",
    "    test_acc_list.append(test_accuracy)\n",
    "    loss_list.append(train_loss)\n",
    "    \n",
    "    #Save the best model\n",
    "    if test_accuracy>best_accuracy:\n",
    "        torch.save(model.state_dict(),'best_checkpoint.model')\n",
    "        best_accuracy=test_accuracy\n",
    "    \n",
    "       "
   ]
  },
  {
   "cell_type": "code",
   "execution_count": 44,
   "id": "f8587337-a3d3-4c24-a517-1712e44982f8",
   "metadata": {},
   "outputs": [],
   "source": [
    "# train_acc_list.append(train_accuracy)\n",
    "# test_acc_list.append(test_accuracy)\n",
    "# loss_list.append(train_loss)"
   ]
  },
  {
   "cell_type": "code",
   "execution_count": 45,
   "id": "ab818166-b584-45c9-92e8-af18047e8d4d",
   "metadata": {},
   "outputs": [
    {
     "data": {
      "image/png": "[encoded data removed]",
      "text/plain": [
       "<Figure size 864x576 with 1 Axes>"
      ]
     },
     "metadata": {
      "needs_background": "light"
     },
     "output_type": "display_data"
    }
   ],
   "source": [
    "# Plot the results\n",
    "import matplotlib.pyplot as plt\n",
    "\n",
    "fig,ax = plt.subplots(figsize=(12,8))\n",
    "plt.plot(train_acc_list, label='Training Accuracy')\n",
    "plt.plot(test_acc_list, label='Test Accuracy')\n",
    "plt.xlabel('Epoch')\n",
    "plt.ylabel('Percentage')\n",
    "plt.title('Training & Testing Accuracy')\n",
    "plt.legend()\n",
    "plt.xticks(range(21))\n",
    "plt.ylim(0,1)\n",
    "plt.show()"
   ]
  },
  {
   "cell_type": "markdown",
   "id": "050f36d8-66ea-4310-8187-443df0f6d664",
   "metadata": {
    "tags": []
   },
   "source": [
    "### <u>Now using unlabeled images to evaluate the network:"
   ]
  },
  {
   "cell_type": "code",
   "execution_count": 57,
   "id": "bcbd763a-5005-4aef-80a6-d24cb625643a",
   "metadata": {},
   "outputs": [],
   "source": [
    "#Loading more libraries\n",
    "import torch\n",
    "import torch.nn as nn\n",
    "import numpy as np\n",
    "import torch.functional as F\n",
    "import os\n",
    "import pathlib\n",
    "import glob\n",
    "import cv2\n",
    "from torch.autograd import Variable\n",
    "from torchvision import transforms as T, datasets\n",
    "from torchvision.models import squeezenet1_1\n",
    "from io import open\n",
    "from PIL import Image\n",
    "import matplotlib.pyplot as plt"
   ]
  },
  {
   "cell_type": "code",
   "execution_count": 58,
   "id": "ab6f6550-301e-443d-bdc9-f427f039e94f",
   "metadata": {},
   "outputs": [],
   "source": [
    "pred_path='/home/exouser/ME592/Final Project/chest-xray-pneumonia/val'"
   ]
  },
  {
   "cell_type": "code",
   "execution_count": 59,
   "id": "fe4580c9-63da-4b64-b16b-9a70e185e33b",
   "metadata": {},
   "outputs": [
    {
     "data": {
      "text/plain": [
       "ConvNet(\n",
       "  (conv1): Conv2d(3, 32, kernel_size=(3, 3), stride=(1, 1), padding=(1, 1))\n",
       "  (bn1): BatchNorm2d(32, eps=1e-05, momentum=0.1, affine=True, track_running_stats=True)\n",
       "  (relu1): ReLU()\n",
       "  (pool): MaxPool2d(kernel_size=2, stride=2, padding=0, dilation=1, ceil_mode=False)\n",
       "  (conv2): Conv2d(32, 64, kernel_size=(3, 3), stride=(1, 1), padding=(1, 1))\n",
       "  (bn2): BatchNorm2d(64, eps=1e-05, momentum=0.1, affine=True, track_running_stats=True)\n",
       "  (relu2): ReLU()\n",
       "  (conv3): Conv2d(64, 128, kernel_size=(3, 3), stride=(1, 1), padding=(1, 1))\n",
       "  (bn3): BatchNorm2d(128, eps=1e-05, momentum=0.1, affine=True, track_running_stats=True)\n",
       "  (relu3): ReLU()\n",
       "  (fc1): Linear(in_features=41472, out_features=1024, bias=True)\n",
       "  (relu4): ReLU()\n",
       "  (fc2): Linear(in_features=1024, out_features=2, bias=True)\n",
       ")"
      ]
     },
     "execution_count": 59,
     "metadata": {},
     "output_type": "execute_result"
    }
   ],
   "source": [
    "checkpoint=torch.load('best_checkpoint.model')\n",
    "model=ConvNet(num_classes=2)\n",
    "model.load_state_dict(checkpoint)\n",
    "model.eval()"
   ]
  },
  {
   "cell_type": "code",
   "execution_count": 60,
   "id": "432b5041-9976-4111-9de3-7669fb01620c",
   "metadata": {},
   "outputs": [],
   "source": [
    "#Transform the prediction input images\n",
    "transformer=transforms.Compose([\n",
    "    transforms.Resize((150,150)),\n",
    "    transforms.ToTensor(),  #0-255 to 0-1, numpy to tensors\n",
    "    transforms.Normalize([0.5,0.5,0.5], # 0-1 to [-1,1] , formula (x-mean)/std\n",
    "                        [0.5,0.5,0.5])\n",
    "])"
   ]
  },
  {
   "cell_type": "code",
   "execution_count": 61,
   "id": "ed22f6b3-446d-429e-a405-a6df5f2c2e25",
   "metadata": {},
   "outputs": [],
   "source": [
    "#Prediction function\n",
    "def prediction(img_path,transformer):\n",
    "    \n",
    "    image=Image.open(img_path)\n",
    "    image_tensor=transformer(image).float()\n",
    "    image_tensor=image_tensor.unsqueeze_(0)\n",
    "    \n",
    "    if torch.cuda.is_available():\n",
    "        image_tensor=image_tensor.cuda()\n",
    "        \n",
    "    input=Variable(image_tensor)\n",
    "    \n",
    "    output=model(input)\n",
    "    index=output.data.numpy().argmax()\n",
    "    pred=classes[index]\n",
    "    \n",
    "    return pred"
   ]
  },
  {
   "cell_type": "code",
   "execution_count": 62,
   "id": "2bea7904-d23b-412a-8a19-ad080839a6bc",
   "metadata": {},
   "outputs": [],
   "source": [
    "#Defining a class to store hyperparameters and file paths used in the code for easy modification.\n",
    "class CFG:\n",
    "    # define the hyperparameters\n",
    "    epochs = 20                                         # No. of epochs of training the model \n",
    "    lr = 0.001                                         # Learning rate \n",
    "    batch_size = 16                                    # Batch Size For Dataset \n",
    "    img_size = 224\n",
    "        \n",
    "    #Directory path for the training & test images\n",
    "    DATA_DIR =\"/home/exouser/ME592/Final Project/chest-xray-pneumonia\"\n",
    "    TEST = 'test'                                      # Test folder name in data directory \n",
    "    TRAIN = 'train'                                    # Train folder name in data directory \n",
    "    VAL ='val'                                         # Valid folder name in data directory "
   ]
  },
  {
   "cell_type": "code",
   "execution_count": 64,
   "id": "d288ad89-0404-4071-b1a3-cf25949eccdf",
   "metadata": {},
   "outputs": [],
   "source": [
    "train_transform = T.Compose([\n",
    "            \n",
    "    T.Resize(size = (CFG.img_size,CFG.img_size)),\n",
    "    T.RandomRotation(degrees = (-20,+20)),\n",
    "    T.ToTensor(),\n",
    "    T.Normalize([0.485, 0.456, 0.406],[0.229, 0.224, 0.225])\n",
    "])\n",
    "\n",
    "valid_transform = T.Compose([\n",
    "    \n",
    "    T.Resize(size = (CFG.img_size,CFG.img_size)),\n",
    "    T.ToTensor(),\n",
    "    T.Normalize([0.485, 0.456, 0.406],[0.229, 0.224, 0.225])\n",
    "])\n",
    "\n",
    "test_transform = T.Compose([\n",
    "    \n",
    "    T.Resize(size = (CFG.img_size,CFG.img_size)),\n",
    "    T.ToTensor(),\n",
    "    T.Normalize([0.485, 0.456, 0.406],[0.229, 0.224, 0.225])\n",
    "])"
   ]
  },
  {
   "cell_type": "code",
   "execution_count": 65,
   "id": "74dd6869-d36f-407f-a2b4-63713700b1c6",
   "metadata": {},
   "outputs": [],
   "source": [
    "train_path = os.path.join(CFG.DATA_DIR, CFG.TRAIN)\n",
    "valid_path = os.path.join(CFG.DATA_DIR, CFG.VAL)\n",
    "test_path = os.path.join(CFG.DATA_DIR, CFG.TEST)\n",
    "\n",
    "trainset = datasets.ImageFolder(train_path,transform = train_transform)\n",
    "validset = datasets.ImageFolder(valid_path,transform = valid_transform)\n",
    "testset = datasets.ImageFolder(test_path,transform = test_transform)"
   ]
  },
  {
   "cell_type": "code",
   "execution_count": null,
   "id": "c662abda-83ec-4636-a0e6-e5e33696f2bf",
   "metadata": {},
   "outputs": [],
   "source": [
    "def view_classify(image,ps,label):\n",
    "    \n",
    "    class_name = ['NORMAL', 'PNEUMONIA']\n",
    "    classes = np.array(class_name)\n",
    "\n",
    "    ps = ps.cpu().data.numpy().squeeze()\n",
    "    \n",
    "    image = image.permute(1,2,0)\n",
    "    mean = torch.FloatTensor([0.485, 0.456, 0.406])\n",
    "    std = torch.FloatTensor([0.229, 0.224, 0.225])\n",
    "    \n",
    "    \n",
    "    image = image*std + mean\n",
    "    img = np.clip(image,0,1)\n",
    "    \n",
    "    fig, (ax1, ax2) = plt.subplots(figsize=(8,12), ncols=2)\n",
    "    ax1.imshow(img)\n",
    "    ax1.set_title('Actual Label : {}'.format(class_name[label]))\n",
    "    ax1.axis('off')\n",
    "    ax2.barh(classes, ps)\n",
    "    ax2.set_aspect(0.1)\n",
    "    ax2.set_yticks(classes)\n",
    "    ax2.set_yticklabels(classes)\n",
    "    ax2.set_title('Predicted Class')\n",
    "    ax2.set_xlim(0, 1.1)\n",
    "\n",
    "    plt.tight_layout()\n",
    "    \n",
    "# Select a random index from 0 to 623\n",
    "idx = random.randint(0, 623)\n",
    "print('Image Index # = ',idx)\n",
    "image,label = testset[idx] # enter the image index\n",
    "\n",
    "logit = model(image.to(device).unsqueeze(0)) \n",
    "ps = F.softmax(logit,dim = 1)\n",
    "\n",
    "view_classify(image,ps,label)"
   ]
  }
 ],
 "metadata": {
  "kernelspec": {
   "display_name": "Python 3 (ipykernel)",
   "language": "python",
   "name": "python3"
  },
  "language_info": {
   "codemirror_mode": {
    "name": "ipython",
    "version": 3
   },
   "file_extension": ".py",
   "mimetype": "text/x-python",
   "name": "python",
   "nbconvert_exporter": "python",
   "pygments_lexer": "ipython3",
   "version": "3.9.7"
  }
 },
 "nbformat": 4,
 "nbformat_minor": 5
}
