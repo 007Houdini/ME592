{
 "cells": [
  {
   "cell_type": "markdown",
   "id": "4bda0552-d646-43e7-a16a-2528b95a0245",
   "metadata": {},
   "source": [
    "### <u> Importing Libraries & Data"
   ]
  },
  {
   "cell_type": "code",
   "execution_count": 1,
   "id": "0afe6b36-036c-4c6f-b460-9fdba1803704",
   "metadata": {},
   "outputs": [],
   "source": [
    "#Load libraries\n",
    "import os\n",
    "import numpy as np\n",
    "import torch\n",
    "import glob\n",
    "import torch.nn as nn\n",
    "from torchvision.transforms import transforms\n",
    "from torch.utils.data import DataLoader\n",
    "from torch.optim import Adam\n",
    "from torch.autograd import Variable\n",
    "import torchvision\n",
    "import pathlib\n",
    "import shutil\n",
    "import random"
   ]
  },
  {
   "cell_type": "code",
   "execution_count": 2,
   "id": "fccb1342-3bad-4d49-a7e8-19c28c1231a0",
   "metadata": {},
   "outputs": [
    {
     "name": "stdout",
     "output_type": "stream",
     "text": [
      "cuda\n"
     ]
    }
   ],
   "source": [
    "#checking for device\n",
    "device=torch.device('cuda' if torch.cuda.is_available() else 'cpu')\n",
    "print(device)\n",
    "torch.cuda.empty_cache()"
   ]
  },
  {
   "cell_type": "code",
   "execution_count": 3,
   "id": "090392af-6eea-4ae0-bb16-af43c29f630d",
   "metadata": {},
   "outputs": [],
   "source": [
    "#Transform the input images\n",
    "transformer=transforms.Compose([\n",
    "    transforms.Resize((150,150)),\n",
    "    transforms.RandomHorizontalFlip(),\n",
    "    transforms.ToTensor(),  #0-255 to 0-1, numpy to tensors\n",
    "    transforms.Normalize([0.5,0.5,0.5], # 0-1 to [-1,1] , formula (x-mean)/std\n",
    "                        [0.5,0.5,0.5])\n",
    "])"
   ]
  },
  {
   "cell_type": "code",
   "execution_count": 4,
   "id": "ba593fe0-1d25-4e89-be6b-54e4c78916ed",
   "metadata": {},
   "outputs": [],
   "source": [
    "#Create a dataloader\n",
    "\n",
    "#Directory path for the training & test images\n",
    "train_path='/home/exouser/ME592/Final Project/chest-xray-pneumonia/train'\n",
    "test_path='/home/exouser/ME592/Final Project/chest-xray-pneumonia/test'\n",
    "\n",
    "train_loader=DataLoader(\n",
    "    torchvision.datasets.ImageFolder(train_path,transform=transformer),\n",
    "    batch_size=16, shuffle=True\n",
    ")\n",
    "test_loader=DataLoader(\n",
    "    torchvision.datasets.ImageFolder(test_path,transform=transformer),\n",
    "    batch_size=16, shuffle=True\n",
    ") \n"
   ]
  },
  {
   "cell_type": "code",
   "execution_count": 5,
   "id": "e0682295-786b-4b37-b6e7-fdc5c03500a0",
   "metadata": {},
   "outputs": [
    {
     "name": "stdout",
     "output_type": "stream",
     "text": [
      "['NORMAL', 'PNEUMONIA']\n"
     ]
    }
   ],
   "source": [
    "#categories\n",
    "root=pathlib.Path(train_path)\n",
    "classes=sorted([j.name.split('/')[-1] for j in root.iterdir()])\n",
    "print(classes)\n"
   ]
  },
  {
   "cell_type": "markdown",
   "id": "30a3baa8-19a1-4c72-b3ec-e2d83787b914",
   "metadata": {},
   "source": [
    "### <u> Step 1: Using a pre-trained neural network from PyTorch"
   ]
  },
  {
   "cell_type": "code",
   "execution_count": 6,
   "id": "2c4ed6bc-5c88-4a50-8aeb-378426ced8c5",
   "metadata": {},
   "outputs": [
    {
     "name": "stderr",
     "output_type": "stream",
     "text": [
      "/home/exouser/.local/lib/python3.9/site-packages/torchvision/models/_utils.py:208: UserWarning: The parameter 'pretrained' is deprecated since 0.13 and may be removed in the future, please use 'weights' instead.\n",
      "  warnings.warn(\n",
      "/home/exouser/.local/lib/python3.9/site-packages/torchvision/models/_utils.py:223: UserWarning: Arguments other than a weight enum or `None` for 'weights' are deprecated since 0.13 and may be removed in the future. The current behavior is equivalent to passing `weights=ResNet18_Weights.IMAGENET1K_V1`. You can also use `weights=ResNet18_Weights.DEFAULT` to get the most up-to-date weights.\n",
      "  warnings.warn(msg)\n"
     ]
    }
   ],
   "source": [
    "#Loading pre-trained ResNet18 model\n",
    "resnet = torchvision.models.resnet18(pretrained=True)"
   ]
  },
  {
   "cell_type": "code",
   "execution_count": 7,
   "id": "c44289bc-7208-4d26-92ae-7ad4415d3391",
   "metadata": {},
   "outputs": [],
   "source": [
    "#Freezing all layers except the last one\n",
    "for param in resnet.parameters():\n",
    "    param.requires_grad=False\n",
    "    "
   ]
  },
  {
   "cell_type": "code",
   "execution_count": 8,
   "id": "85ed40a9-3bb7-4e62-b7af-0af97224ad2a",
   "metadata": {},
   "outputs": [],
   "source": [
    "#Replace the last layer with our own classifier\n",
    "num_ftrs=resnet.fc.in_features\n",
    "resnet.fc=nn.Linear(num_ftrs, 2)\n",
    "\n",
    "#Move the model to the device\n",
    "model=resnet.to(device)"
   ]
  },
  {
   "cell_type": "code",
   "execution_count": 9,
   "id": "c5da8103-4cca-4362-8b08-8f3dbae3966c",
   "metadata": {},
   "outputs": [],
   "source": [
    "#Input the optimizer & loss function\n",
    "optimizer=Adam(model.parameters(), lr=0.003, weight_decay=0.0001)\n",
    "loss_function=nn.CrossEntropyLoss()\n",
    "# loss_function=nn.BCEWithLogitsLoss()"
   ]
  },
  {
   "cell_type": "code",
   "execution_count": 10,
   "id": "46502240-e149-4f57-a9ff-14700cb5be72",
   "metadata": {},
   "outputs": [],
   "source": [
    "num_epochs=20"
   ]
  },
  {
   "cell_type": "code",
   "execution_count": 11,
   "id": "1383f08d-3eb8-4b67-ace0-1203c84ab4d7",
   "metadata": {},
   "outputs": [
    {
     "name": "stdout",
     "output_type": "stream",
     "text": [
      "5216\n",
      "624\n"
     ]
    }
   ],
   "source": [
    "# calculating the size of training and testing images\n",
    "train_count = len(glob.glob(train_path + '/**/*.jpeg'))\n",
    "test_count = len(glob.glob(test_path + '/**/*.jpeg'))\n",
    "\n",
    "print(train_count)\n",
    "print(test_count)\n",
    "\n",
    "train_acc_list = []\n",
    "test_acc_list = []\n",
    "loss_list = []"
   ]
  },
  {
   "cell_type": "code",
   "execution_count": 13,
   "id": "850d2043-c622-45d8-acc9-969e7bbc79b0",
   "metadata": {},
   "outputs": [],
   "source": [
    "train_acc_list = []\n",
    "test_acc_list = []\n",
    "loss_list = []"
   ]
  },
  {
   "cell_type": "code",
   "execution_count": 14,
   "id": "f8e8f1b0-a170-49ef-808c-d7b65e2866ed",
   "metadata": {},
   "outputs": [
    {
     "name": "stdout",
     "output_type": "stream",
     "text": [
      "Epoch: 0 Train Loss: tensor(0.2220) Train Accuracy: 0.9139187116564417 Test Accuracy: 0.8509615384615384\n",
      "Epoch: 1 Train Loss: tensor(0.2206) Train Accuracy: 0.9175613496932515 Test Accuracy: 0.8733974358974359\n",
      "Epoch: 2 Train Loss: tensor(0.1879) Train Accuracy: 0.9300230061349694 Test Accuracy: 0.7548076923076923\n",
      "Epoch: 3 Train Loss: tensor(0.1868) Train Accuracy: 0.9323236196319018 Test Accuracy: 0.8557692307692307\n",
      "Epoch: 4 Train Loss: tensor(0.1756) Train Accuracy: 0.9359662576687117 Test Accuracy: 0.7868589743589743\n",
      "Epoch: 5 Train Loss: tensor(0.1994) Train Accuracy: 0.9244631901840491 Test Accuracy: 0.8028846153846154\n",
      "Epoch: 6 Train Loss: tensor(0.1936) Train Accuracy: 0.932898773006135 Test Accuracy: 0.8237179487179487\n",
      "Epoch: 7 Train Loss: tensor(0.1724) Train Accuracy: 0.9386503067484663 Test Accuracy: 0.8060897435897436\n",
      "Epoch: 8 Train Loss: tensor(0.1818) Train Accuracy: 0.9355828220858896 Test Accuracy: 0.8733974358974359\n",
      "Epoch: 9 Train Loss: tensor(0.1667) Train Accuracy: 0.9384585889570553 Test Accuracy: 0.8349358974358975\n",
      "Epoch: 10 Train Loss: tensor(0.1981) Train Accuracy: 0.9288726993865031 Test Accuracy: 0.8525641025641025\n",
      "Epoch: 11 Train Loss: tensor(0.1676) Train Accuracy: 0.9363496932515337 Test Accuracy: 0.8397435897435898\n",
      "Epoch: 12 Train Loss: tensor(0.2004) Train Accuracy: 0.932898773006135 Test Accuracy: 0.8669871794871795\n",
      "Epoch: 13 Train Loss: tensor(0.2046) Train Accuracy: 0.9307898773006135 Test Accuracy: 0.8733974358974359\n",
      "Epoch: 14 Train Loss: tensor(0.1902) Train Accuracy: 0.9359662576687117 Test Accuracy: 0.8493589743589743\n",
      "Epoch: 15 Train Loss: tensor(0.1709) Train Accuracy: 0.9369248466257669 Test Accuracy: 0.8573717948717948\n",
      "Epoch: 16 Train Loss: tensor(0.1682) Train Accuracy: 0.9428680981595092 Test Accuracy: 0.8381410256410257\n",
      "Epoch: 17 Train Loss: tensor(0.1836) Train Accuracy: 0.9361579754601227 Test Accuracy: 0.7932692307692307\n",
      "Epoch: 18 Train Loss: tensor(0.1687) Train Accuracy: 0.9396088957055214 Test Accuracy: 0.8317307692307693\n",
      "Epoch: 19 Train Loss: tensor(0.1691) Train Accuracy: 0.9430598159509203 Test Accuracy: 0.7275641025641025\n"
     ]
    }
   ],
   "source": [
    "# Model training and saving best model\n",
    "\n",
    "best_accuracy = 0.0\n",
    "\n",
    "for epoch in range(num_epochs):\n",
    "\n",
    "    # Evaluation and training on training dataset\n",
    "    model.train()\n",
    "    train_accuracy = 0.0\n",
    "    train_loss = 0.0\n",
    "\n",
    "    for i, (images, labels) in enumerate(train_loader):\n",
    "        if torch.cuda.is_available():\n",
    "            images = Variable(images.cuda())\n",
    "            labels = Variable(labels.cuda())\n",
    "\n",
    "        optimizer.zero_grad()\n",
    "\n",
    "        outputs = model(images)\n",
    "        loss = loss_function(outputs, labels)\n",
    "        loss.backward()\n",
    "        optimizer.step()\n",
    "\n",
    "        train_loss += loss.cpu().data * images.size(0)\n",
    "        _, prediction = torch.max(outputs.data, 1)\n",
    "\n",
    "        train_accuracy += int(torch.sum(prediction == labels.data))\n",
    "\n",
    "    train_accuracy = train_accuracy / train_count\n",
    "    train_loss = train_loss / train_count\n",
    "\n",
    "    # Evaluation on testing dataset\n",
    "    model.eval()\n",
    "    \n",
    "    test_accuracy=0.0\n",
    "    for i, (images,labels) in enumerate(test_loader):\n",
    "        if torch.cuda.is_available():\n",
    "            images=Variable(images.cuda())\n",
    "            labels=Variable(labels.cuda())\n",
    "            \n",
    "        outputs=model(images)\n",
    "        _,prediction=torch.max(outputs.data,1)\n",
    "        test_accuracy+=int(torch.sum(prediction==labels.data))\n",
    "    \n",
    "    test_accuracy=test_accuracy/test_count\n",
    "    \n",
    "    print('Epoch: '+str(epoch)+' Train Loss: '+str(train_loss)+' Train Accuracy: '+str(train_accuracy)+' Test Accuracy: '+str(test_accuracy))\n",
    "    \n",
    "    train_acc_list.append(train_accuracy)\n",
    "    test_acc_list.append(test_accuracy)\n",
    "    loss_list.append(train_loss)\n",
    "    \n",
    "    #Save the best model\n",
    "    if test_accuracy>best_accuracy:\n",
    "        torch.save(model.state_dict(),'best_checkpoint.model')\n",
    "        best_accuracy=test_accuracy\n"
   ]
  },
  {
   "cell_type": "code",
   "execution_count": 15,
   "id": "cf4bbbcb-2d77-4485-996f-2516ce2c9cec",
   "metadata": {},
   "outputs": [
    {
     "data": {
      "image/png": "[encoded data removed]",
      "text/plain": [
       "<Figure size 864x576 with 1 Axes>"
      ]
     },
     "metadata": {
      "needs_background": "light"
     },
     "output_type": "display_data"
    }
   ],
   "source": [
    "# Plot the results\n",
    "import matplotlib.pyplot as plt\n",
    "\n",
    "fig,ax = plt.subplots(figsize=(12,8))\n",
    "plt.plot(train_acc_list, label='Training Accuracy')\n",
    "plt.plot(test_acc_list, label='Test Accuracy')\n",
    "plt.xlabel('Epoch')\n",
    "plt.ylabel('Percentage')\n",
    "plt.title('Training & Testing Accuracy')\n",
    "plt.legend()\n",
    "plt.xticks(range(21))\n",
    "plt.ylim(0,1)\n",
    "plt.show()"
   ]
  },
  {
   "cell_type": "code",
   "execution_count": null,
   "id": "76a9ab9c-6cfd-4275-bb61-c63a4856deca",
   "metadata": {},
   "outputs": [],
   "source": []
  },
  {
   "cell_type": "code",
   "execution_count": null,
   "id": "692b16d5-5049-4a4c-8cfe-101265bf23d0",
   "metadata": {},
   "outputs": [],
   "source": []
  },
  {
   "cell_type": "code",
   "execution_count": null,
   "id": "b5b8b79e-f801-4ad0-9c5b-379f7912d0a3",
   "metadata": {},
   "outputs": [],
   "source": []
  },
  {
   "cell_type": "code",
   "execution_count": null,
   "id": "2debb600-4180-43fc-97f0-30e3ad2fbd18",
   "metadata": {},
   "outputs": [],
   "source": []
  },
  {
   "cell_type": "code",
   "execution_count": null,
   "id": "ed115b6e-b4ff-4e68-93b2-2b6d4276e15b",
   "metadata": {},
   "outputs": [],
   "source": []
  }
 ],
 "metadata": {
  "kernelspec": {
   "display_name": "Python 3 (ipykernel)",
   "language": "python",
   "name": "python3"
  },
  "language_info": {
   "codemirror_mode": {
    "name": "ipython",
    "version": 3
   },
   "file_extension": ".py",
   "mimetype": "text/x-python",
   "name": "python",
   "nbconvert_exporter": "python",
   "pygments_lexer": "ipython3",
   "version": "3.9.7"
  }
 },
 "nbformat": 4,
 "nbformat_minor": 5
}
