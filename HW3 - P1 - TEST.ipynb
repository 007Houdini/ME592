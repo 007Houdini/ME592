{
 "cells": [
  {
   "cell_type": "markdown",
   "id": "5de5584e-1d19-482c-b578-8c8ac1003f0a",
   "metadata": {
    "tags": []
   },
   "source": [
    "## **Homework 3**\n",
    "### Engineering Image Analysis - Combustion Images\n",
    "#### Step 1 - Train 2D CNN for Classifying Flames"
   ]
  },
  {
   "cell_type": "code",
   "execution_count": 1,
   "id": "0b88308b-7a8b-448c-a82d-2f3492fb7324",
   "metadata": {},
   "outputs": [],
   "source": [
    "import h5py\n",
    "import matplotlib.pyplot as plt\n",
    "import numpy as np\n",
    "import scipy.io\n",
    "from matplotlib.pyplot import imshow\n",
    "%matplotlib inline\n",
    "\n",
    "#Load the data from the .mat file \n",
    "#NOTE: x data are single channel images sized at 250x100 pixels \n",
    "#      y data are classifiers for the x images stating stable (1) and unstable (0)"
   ]
  },
  {
   "cell_type": "code",
   "execution_count": 2,
   "id": "f2d5e456-6995-4ce7-969a-50cb1085536d",
   "metadata": {},
   "outputs": [
    {
     "name": "stdout",
     "output_type": "stream",
     "text": [
      "['test_set_x', 'test_set_y', 'train_set_x', 'train_set_y', 'valid_set_x', 'valid_set_y']\n"
     ]
    }
   ],
   "source": [
    "with h5py.File('combustion_img_13.mat', 'r') as f:\n",
    "    print(list(f.keys())) #Print the available keys in the file\n",
    "    train_set_x = np.array(f['train_set_x'])\n",
    "    train_set_y = np.array(f['train_set_y'])\n",
    "    valid_set_x = np.array(f['valid_set_x'])\n",
    "    valid_set_y = np.array(f['valid_set_y'])\n",
    "    test_set_x = np.array(f['test_set_x'])\n",
    "    test_set_y = np.array(f['test_set_y'])    "
   ]
  },
  {
   "cell_type": "code",
   "execution_count": 3,
   "id": "634a8568-1d9c-4062-9474-66e7ba7f06b4",
   "metadata": {},
   "outputs": [
    {
     "name": "stdout",
     "output_type": "stream",
     "text": [
      "(25000, 54000)\n",
      "(54000, 1)\n"
     ]
    }
   ],
   "source": [
    "print(train_set_x.shape)\n",
    "print(train_set_y.shape)"
   ]
  },
  {
   "cell_type": "code",
   "execution_count": 4,
   "id": "7d8db750-8b96-40a4-b21b-931cb278bf50",
   "metadata": {},
   "outputs": [
    {
     "data": {
      "text/plain": [
       "<matplotlib.image.AxesImage at 0x7f7350643970>"
      ]
     },
     "execution_count": 4,
     "metadata": {},
     "output_type": "execute_result"
    },
    {
     "data": {
      "image/png": "[encoded data removed]",
      "text/plain": [
       "<Figure size 432x288 with 1 Axes>"
      ]
     },
     "metadata": {
      "needs_background": "light"
     },
     "output_type": "display_data"
    }
   ],
   "source": [
    "#By analyzing data in matlab, found a split point between y data 0 & 1 values to determine which value corresponds to stable/unstable\n",
    "imgs = []\n",
    "for i in range(5990, 6010):           \n",
    "    sample_img = train_set_x[:, i]\n",
    "    #print(f\"initial shape: {sample_img.shape}\")\n",
    "    sample_img = sample_img.reshape(250, 100)\n",
    "    #print(f\"next shape: {sample_img.shape}\")\n",
    "    imgs.append(sample_img)\n",
    "    \n",
    "stacked = np.hstack(imgs)\n",
    "imshow(stacked, cmap='hot')"
   ]
  },
  {
   "cell_type": "code",
   "execution_count": 5,
   "id": "5e0d1541-5b93-42dc-aa82-24db7caabf05",
   "metadata": {},
   "outputs": [
    {
     "name": "stderr",
     "output_type": "stream",
     "text": [
      "2023-04-05 17:00:17.204549: I tensorflow/core/platform/cpu_feature_guard.cc:193] This TensorFlow binary is optimized with oneAPI Deep Neural Network Library (oneDNN) to use the following CPU instructions in performance-critical operations:  AVX2 FMA\n",
      "To enable them in other operations, rebuild TensorFlow with the appropriate compiler flags.\n"
     ]
    }
   ],
   "source": [
    "# Preprocess the data via normalization and converting the labels to one-hot encoding:\n",
    "\n",
    "import tensorflow as tf\n",
    "\n",
    "# USING PYTORCH INSTEAD\n",
    "# import torch as th\n",
    "# if th.cuda.is_available():\n",
    "#     th.backends.cudnn.deterministic = True\n",
    "#     th.cuda.manual_seed(seed)\n",
    "    \n",
    "# #Define default device, we should use the GPU (cuda) if available\n",
    "# device = th.device(\"cuda\" if th.cuda.is_available() else \"cpu\")\n",
    "\n",
    "# Preprocess the data\n",
    "train_set_x = train_set_x.astype('float32') / 255\n",
    "valid_set_x= valid_set_x.astype('float32') / 255\n",
    "test_set_x = test_set_x.astype('float32') / 255\n",
    "\n",
    "test_set_y = tf.keras.utils.to_categorical(test_set_y, num_classes=2)\n",
    "valid_set_y = tf.keras.utils.to_categorical(valid_set_y, num_classes=2)\n",
    "test_set_y = tf.keras.utils.to_categorical(test_set_y, num_classes=2)\n"
   ]
  },
  {
   "cell_type": "code",
   "execution_count": null,
   "id": "645eb763-7213-4015-9137-50785af2d862",
   "metadata": {},
   "outputs": [],
   "source": [
    "# Define the model\n",
    "model = tf.keras.models.Sequential([\n",
    "    tf.keras.layers.Conv2D(32, (3, 3), activation='relu', input_shape=(250, 100, 1)),\n",
    "    tf.keras.layers.MaxPooling2D((2, 2)),\n",
    "    tf.keras.layers.Conv2D(64, (3, 3), activation='relu'),\n",
    "    tf.keras.layers.MaxPooling2D((2, 2)),\n",
    "    tf.keras.layers.Conv2D(128, (3, 3), activation='relu'),\n",
    "    tf.keras.layers.MaxPooling2D((2, 2)),\n",
    "    tf.keras.layers.Flatten(),\n",
    "    tf.keras.layers.Dropout(0.5),\n",
    "    tf.keras.layers.Dense(64, activation='relu'),\n",
    "    tf.keras.layers.Dropout(0.5),\n",
    "    tf.keras.layers.Dense(2, activation='sigmoid')\n",
    "])\n",
    "\n",
    "#May be able to use sigmoid instead of softmax for the activation\n",
    "\n",
    "# Compile the model\n",
    "model.compile(optimizer='adam', loss='categorical_crossentropy', metrics=['accuracy'])\n",
    "\n",
    "# Train the model\n",
    "history = model.fit(train_set_x, train_set_y, batch_size=32, epochs=2, validation_data=(valid_set_x, valid_set_y))\n",
    "\n",
    "# Evaluate the model on the test set\n",
    "test_loss, test_acc = model.evaluate(test_set_x, test_set_y)\n",
    "print(\"Test accuracy:\", test_acc)\n"
   ]
  },
  {
   "cell_type": "code",
   "execution_count": null,
   "id": "05741f19-c478-4fc2-b6ea-df740f18f5b5",
   "metadata": {},
   "outputs": [],
   "source": []
  },
  {
   "cell_type": "code",
   "execution_count": null,
   "id": "a3991387-f33b-48e1-9faf-3828a83e6edc",
   "metadata": {},
   "outputs": [],
   "source": [
    "# import tensorflow as tf\n",
    "# from tensorflow.keras.models import Sequential\n",
    "# from tensorflow.keras.layers import Conv2D, MaxPooling2D, Flatten, Dense\n",
    "# from tensorflow.keras.optimizers import Adam\n",
    "# from tensorflow.keras.callbacks import EarlyStopping\n",
    "\n",
    "# # Preprocess the data\n",
    "# x_train = train_set_x.astype('float32') / 255\n",
    "# x_val = valid_set_x.astype('float32') / 255\n",
    "# x_test = test_set_x.astype('float32') / 255\n",
    "\n",
    "# # Define the CNN model architecture\n",
    "# model = Sequential([\n",
    "#     Conv2D(32, (3, 3), activation='relu', input_shape=(100, 250, 1)),\n",
    "#     MaxPooling2D((2, 2)),\n",
    "#     Conv2D(64, (3, 3), activation='relu'),\n",
    "#     MaxPooling2D((2, 2)),\n",
    "#     Conv2D(128, (3, 3), activation='relu'),\n",
    "#     MaxPooling2D((2, 2)),\n",
    "#     Flatten(),\n",
    "#     Dense(64, activation='relu'),\n",
    "#     Dense(1, activation='sigmoid')\n",
    "# ])\n",
    "\n",
    "# # Compile the model\n",
    "# model.compile(optimizer=Adam(learning_rate=0.001), loss='binary_crossentropy', metrics=['accuracy'])\n",
    "\n",
    "# # Train the model with early stopping based on validation loss\n",
    "# early_stop = EarlyStopping(monitor='val_loss', patience=3)\n",
    "# model.fit(x_train, train_set_y, epochs=20, batch_size=32, validation_data=(valid_set_x, valid_set_y),\n",
    "#           callbacks=[early_stop])\n",
    "\n",
    "# # Evaluate the model on the testing set\n",
    "# test_loss, test_acc = model.evaluate(x_test, y_test)\n",
    "# print(f'Testing loss: {test_loss}, Testing accuracy: {test_acc}')"
   ]
  },
  {
   "cell_type": "markdown",
   "id": "8eccdd1b-090e-4a9c-b8b9-7dd0a963234d",
   "metadata": {},
   "source": [
    "#### Step 2 - Train an autoencoder to allow a sequential model to operate"
   ]
  },
  {
   "cell_type": "code",
   "execution_count": 3,
   "id": "be7ea23d-83eb-4896-8380-cc6ae876c10a",
   "metadata": {},
   "outputs": [],
   "source": [
    "#PART 2:\n",
    "import h5py\n",
    "import matplotlib.pyplot as plt\n",
    "import numpy as np\n",
    "import scipy.io\n",
    "from matplotlib.pyplot import imshow\n",
    "%matplotlib inline"
   ]
  },
  {
   "cell_type": "code",
   "execution_count": 4,
   "id": "26e940f4-4216-4fcd-8db7-ee54c9fefcae",
   "metadata": {},
   "outputs": [
    {
     "name": "stdout",
     "output_type": "stream",
     "text": [
      "['test_set_x', 'test_set_y', 'train_set_x', 'train_set_y', 'valid_set_x', 'valid_set_y']\n"
     ]
    }
   ],
   "source": [
    "with h5py.File('combustion_img_13.mat', 'r') as f:\n",
    "    print(list(f.keys())) #Print the available keys in the file\n",
    "    train_set_x = np.array(f['train_set_x'])\n",
    "    train_set_y = np.array(f['train_set_y'])\n",
    "    valid_set_x = np.array(f['valid_set_x'])\n",
    "    valid_set_y = np.array(f['valid_set_y'])\n",
    "    test_set_x = np.array(f['test_set_x'])\n",
    "    test_set_y = np.array(f['test_set_y'])    \n",
    "    \n",
    "train_set_x = train_set_x.astype('float32') / 255.\n",
    "valid_set_x = valid_set_x.astype('float32') / 255.\n",
    "test_set_x = test_set_x.astype('float32') / 255.\n",
    "\n",
    "train_set_x = train_set_x.reshape(-1, 250, 100, 1)\n",
    "valid_set_x = valid_set_x.reshape(-1, 250, 100, 1)\n",
    "test_set_x = test_set_x.reshape(-1, 250, 100, 1)"
   ]
  },
  {
   "cell_type": "code",
   "execution_count": 3,
   "id": "b8aab606-9943-46e2-aa27-368f85fb9deb",
   "metadata": {},
   "outputs": [
    {
     "name": "stdout",
     "output_type": "stream",
     "text": [
      "(54000, 250, 100, 1)\n",
      "(9000, 250, 100, 1)\n",
      "(18000, 250, 100, 1)\n"
     ]
    }
   ],
   "source": [
    "# print(train_set_x.shape)\n",
    "# print(valid_set_x.shape)\n",
    "# print(test_set_x.shape)"
   ]
  },
  {
   "cell_type": "code",
   "execution_count": 5,
   "id": "ee18c82f-da00-4524-b59b-e79f458e52ce",
   "metadata": {},
   "outputs": [
    {
     "name": "stderr",
     "output_type": "stream",
     "text": [
      "2023-04-05 18:56:23.002360: I tensorflow/core/platform/cpu_feature_guard.cc:193] This TensorFlow binary is optimized with oneAPI Deep Neural Network Library (oneDNN) to use the following CPU instructions in performance-critical operations:  AVX2 FMA\n",
      "To enable them in other operations, rebuild TensorFlow with the appropriate compiler flags.\n"
     ]
    }
   ],
   "source": [
    "from tensorflow.keras.models import Model\n",
    "from tensorflow.keras.layers import Input, Conv2D, Conv2DTranspose, MaxPooling2D, UpSampling2D\n",
    "\n",
    "input_img = Input(shape=(250, 100, 1))\n",
    "\n",
    "x = Conv2D(32, (3, 3), activation='relu', padding='same')(input_img)\n",
    "x = MaxPooling2D((2, 2), padding='same')(x)\n",
    "x = Conv2D(64, (3, 3), activation='relu', padding='same')(x)\n",
    "x = MaxPooling2D((2, 2), padding='same')(x)\n",
    "x = Conv2D(128, (3, 3), activation='relu', padding='same')(x)\n",
    "encoded = MaxPooling2D((2, 2), padding='same')(x)\n",
    "\n",
    "x = Conv2DTranspose(128, (3, 3), strides=(2, 2), activation='relu', padding='same')(encoded)\n",
    "x = Conv2DTranspose(64, (3, 3), strides=(2, 2), activation='relu', padding='same')(x)\n",
    "x = Conv2DTranspose(32, (3, 3), strides=(2, 2), activation='relu', padding='same')(x)\n",
    "decoded = Conv2DTranspose(1, (3, 3), activation='sigmoid', padding='same')(x)\n",
    "\n",
    "autoencoder = Model(input_img, decoded)\n",
    "autoencoder.compile(optimizer='adam', loss='binary_crossentropy')"
   ]
  },
  {
   "cell_type": "code",
   "execution_count": 6,
   "id": "a2d5baf5-f9fb-41df-adee-4a6e427b7a2f",
   "metadata": {},
   "outputs": [
    {
     "ename": "ValueError",
     "evalue": "in user code:\n\n    File \"/home/exouser/.local/lib/python3.9/site-packages/keras/engine/training.py\", line 1820, in test_function  *\n        return step_function(self, iterator)\n    File \"/home/exouser/.local/lib/python3.9/site-packages/keras/engine/training.py\", line 1804, in step_function  **\n        outputs = model.distribute_strategy.run(run_step, args=(data,))\n    File \"/home/exouser/.local/lib/python3.9/site-packages/keras/engine/training.py\", line 1792, in run_step  **\n        outputs = model.test_step(data)\n    File \"/home/exouser/.local/lib/python3.9/site-packages/keras/engine/training.py\", line 1758, in test_step\n        self.compute_loss(x, y, y_pred, sample_weight)\n    File \"/home/exouser/.local/lib/python3.9/site-packages/keras/engine/training.py\", line 1082, in compute_loss\n        return self.compiled_loss(\n    File \"/home/exouser/.local/lib/python3.9/site-packages/keras/engine/compile_utils.py\", line 265, in __call__\n        loss_value = loss_obj(y_t, y_p, sample_weight=sw)\n    File \"/home/exouser/.local/lib/python3.9/site-packages/keras/losses.py\", line 152, in __call__\n        losses = call_fn(y_true, y_pred)\n    File \"/home/exouser/.local/lib/python3.9/site-packages/keras/losses.py\", line 284, in call  **\n        return ag_fn(y_true, y_pred, **self._fn_kwargs)\n    File \"/home/exouser/.local/lib/python3.9/site-packages/keras/losses.py\", line 2176, in binary_crossentropy\n        backend.binary_crossentropy(y_true, y_pred, from_logits=from_logits),\n    File \"/home/exouser/.local/lib/python3.9/site-packages/keras/backend.py\", line 5680, in binary_crossentropy\n        return tf.nn.sigmoid_cross_entropy_with_logits(\n\n    ValueError: `logits` and `labels` must have the same shape, received ((None, 256, 104, 1) vs (None, 1)).\n",
     "output_type": "error",
     "traceback": [
      "\u001b[0;31m---------------------------------------------------------------------------\u001b[0m",
      "\u001b[0;31mValueError\u001b[0m                                Traceback (most recent call last)",
      "\u001b[0;32m/tmp/ipykernel_4000/2528804000.py\u001b[0m in \u001b[0;36m<module>\u001b[0;34m\u001b[0m\n\u001b[1;32m      1\u001b[0m \u001b[0;31m# Evaluate the model on the test set\u001b[0m\u001b[0;34m\u001b[0m\u001b[0;34m\u001b[0m\u001b[0m\n\u001b[0;32m----> 2\u001b[0;31m \u001b[0mtest_loss\u001b[0m\u001b[0;34m,\u001b[0m \u001b[0mtest_acc\u001b[0m \u001b[0;34m=\u001b[0m \u001b[0mautoencoder\u001b[0m\u001b[0;34m.\u001b[0m\u001b[0mevaluate\u001b[0m\u001b[0;34m(\u001b[0m\u001b[0mtest_set_x\u001b[0m\u001b[0;34m,\u001b[0m \u001b[0mtest_set_y\u001b[0m\u001b[0;34m)\u001b[0m\u001b[0;34m\u001b[0m\u001b[0;34m\u001b[0m\u001b[0m\n\u001b[0m\u001b[1;32m      3\u001b[0m \u001b[0mprint\u001b[0m\u001b[0;34m(\u001b[0m\u001b[0;34m\"Test accuracy:\"\u001b[0m\u001b[0;34m,\u001b[0m \u001b[0mtest_acc\u001b[0m\u001b[0;34m)\u001b[0m\u001b[0;34m\u001b[0m\u001b[0;34m\u001b[0m\u001b[0m\n",
      "\u001b[0;32m~/.local/lib/python3.9/site-packages/keras/utils/traceback_utils.py\u001b[0m in \u001b[0;36merror_handler\u001b[0;34m(*args, **kwargs)\u001b[0m\n\u001b[1;32m     68\u001b[0m             \u001b[0;31m# To get the full stack trace, call:\u001b[0m\u001b[0;34m\u001b[0m\u001b[0;34m\u001b[0m\u001b[0m\n\u001b[1;32m     69\u001b[0m             \u001b[0;31m# `tf.debugging.disable_traceback_filtering()`\u001b[0m\u001b[0;34m\u001b[0m\u001b[0;34m\u001b[0m\u001b[0m\n\u001b[0;32m---> 70\u001b[0;31m             \u001b[0;32mraise\u001b[0m \u001b[0me\u001b[0m\u001b[0;34m.\u001b[0m\u001b[0mwith_traceback\u001b[0m\u001b[0;34m(\u001b[0m\u001b[0mfiltered_tb\u001b[0m\u001b[0;34m)\u001b[0m \u001b[0;32mfrom\u001b[0m \u001b[0;32mNone\u001b[0m\u001b[0;34m\u001b[0m\u001b[0;34m\u001b[0m\u001b[0m\n\u001b[0m\u001b[1;32m     71\u001b[0m         \u001b[0;32mfinally\u001b[0m\u001b[0;34m:\u001b[0m\u001b[0;34m\u001b[0m\u001b[0;34m\u001b[0m\u001b[0m\n\u001b[1;32m     72\u001b[0m             \u001b[0;32mdel\u001b[0m \u001b[0mfiltered_tb\u001b[0m\u001b[0;34m\u001b[0m\u001b[0;34m\u001b[0m\u001b[0m\n",
      "\u001b[0;32m~/.local/lib/python3.9/site-packages/keras/engine/training.py\u001b[0m in \u001b[0;36mtf__test_function\u001b[0;34m(iterator)\u001b[0m\n\u001b[1;32m     13\u001b[0m                 \u001b[0;32mtry\u001b[0m\u001b[0;34m:\u001b[0m\u001b[0;34m\u001b[0m\u001b[0;34m\u001b[0m\u001b[0m\n\u001b[1;32m     14\u001b[0m                     \u001b[0mdo_return\u001b[0m \u001b[0;34m=\u001b[0m \u001b[0;32mTrue\u001b[0m\u001b[0;34m\u001b[0m\u001b[0;34m\u001b[0m\u001b[0m\n\u001b[0;32m---> 15\u001b[0;31m                     \u001b[0mretval_\u001b[0m \u001b[0;34m=\u001b[0m \u001b[0mag__\u001b[0m\u001b[0;34m.\u001b[0m\u001b[0mconverted_call\u001b[0m\u001b[0;34m(\u001b[0m\u001b[0mag__\u001b[0m\u001b[0;34m.\u001b[0m\u001b[0mld\u001b[0m\u001b[0;34m(\u001b[0m\u001b[0mstep_function\u001b[0m\u001b[0;34m)\u001b[0m\u001b[0;34m,\u001b[0m \u001b[0;34m(\u001b[0m\u001b[0mag__\u001b[0m\u001b[0;34m.\u001b[0m\u001b[0mld\u001b[0m\u001b[0;34m(\u001b[0m\u001b[0mself\u001b[0m\u001b[0;34m)\u001b[0m\u001b[0;34m,\u001b[0m \u001b[0mag__\u001b[0m\u001b[0;34m.\u001b[0m\u001b[0mld\u001b[0m\u001b[0;34m(\u001b[0m\u001b[0miterator\u001b[0m\u001b[0;34m)\u001b[0m\u001b[0;34m)\u001b[0m\u001b[0;34m,\u001b[0m \u001b[0;32mNone\u001b[0m\u001b[0;34m,\u001b[0m \u001b[0mfscope\u001b[0m\u001b[0;34m)\u001b[0m\u001b[0;34m\u001b[0m\u001b[0;34m\u001b[0m\u001b[0m\n\u001b[0m\u001b[1;32m     16\u001b[0m                 \u001b[0;32mexcept\u001b[0m\u001b[0;34m:\u001b[0m\u001b[0;34m\u001b[0m\u001b[0;34m\u001b[0m\u001b[0m\n\u001b[1;32m     17\u001b[0m                     \u001b[0mdo_return\u001b[0m \u001b[0;34m=\u001b[0m \u001b[0;32mFalse\u001b[0m\u001b[0;34m\u001b[0m\u001b[0;34m\u001b[0m\u001b[0m\n",
      "\u001b[0;31mValueError\u001b[0m: in user code:\n\n    File \"/home/exouser/.local/lib/python3.9/site-packages/keras/engine/training.py\", line 1820, in test_function  *\n        return step_function(self, iterator)\n    File \"/home/exouser/.local/lib/python3.9/site-packages/keras/engine/training.py\", line 1804, in step_function  **\n        outputs = model.distribute_strategy.run(run_step, args=(data,))\n    File \"/home/exouser/.local/lib/python3.9/site-packages/keras/engine/training.py\", line 1792, in run_step  **\n        outputs = model.test_step(data)\n    File \"/home/exouser/.local/lib/python3.9/site-packages/keras/engine/training.py\", line 1758, in test_step\n        self.compute_loss(x, y, y_pred, sample_weight)\n    File \"/home/exouser/.local/lib/python3.9/site-packages/keras/engine/training.py\", line 1082, in compute_loss\n        return self.compiled_loss(\n    File \"/home/exouser/.local/lib/python3.9/site-packages/keras/engine/compile_utils.py\", line 265, in __call__\n        loss_value = loss_obj(y_t, y_p, sample_weight=sw)\n    File \"/home/exouser/.local/lib/python3.9/site-packages/keras/losses.py\", line 152, in __call__\n        losses = call_fn(y_true, y_pred)\n    File \"/home/exouser/.local/lib/python3.9/site-packages/keras/losses.py\", line 284, in call  **\n        return ag_fn(y_true, y_pred, **self._fn_kwargs)\n    File \"/home/exouser/.local/lib/python3.9/site-packages/keras/losses.py\", line 2176, in binary_crossentropy\n        backend.binary_crossentropy(y_true, y_pred, from_logits=from_logits),\n    File \"/home/exouser/.local/lib/python3.9/site-packages/keras/backend.py\", line 5680, in binary_crossentropy\n        return tf.nn.sigmoid_cross_entropy_with_logits(\n\n    ValueError: `logits` and `labels` must have the same shape, received ((None, 256, 104, 1) vs (None, 1)).\n"
     ]
    }
   ],
   "source": [
    "# Evaluate the model on the test set\n",
    "test_loss, test_acc = autoencoder.evaluate(test_set_x, test_set_y)\n",
    "print(\"Test accuracy:\", test_acc)"
   ]
  },
  {
   "cell_type": "code",
   "execution_count": null,
   "id": "fd798cdc-bcff-4b7e-a3a3-ae6a12d4d7eb",
   "metadata": {},
   "outputs": [],
   "source": []
  },
  {
   "cell_type": "markdown",
   "id": "07db8062-b08a-41c8-956d-18e77c4fa3d1",
   "metadata": {},
   "source": [
    "# TEST CODE:"
   ]
  },
  {
   "cell_type": "code",
   "execution_count": null,
   "id": "7dc673aa-d274-43a1-b2ba-186079aeadf6",
   "metadata": {},
   "outputs": [],
   "source": [
    "# import numpy as np\n",
    "# import scipy.io as sio    \n",
    "# import matplotlib.pyplot as plt\n",
    "\n",
    "# # Load the data\n",
    "# # data = sio.loadmat('combustion_img_13.mat')  #NOTE: Found out scipy.io doesn't support Matlab v7.3 data files\n",
    "\n",
    "# import h5py\n",
    "# with h5py.File('combustion_img_13.mat', 'r') as f:\n",
    "\n",
    "# # print(list(f.keys())) #Print the available keys in the file\n",
    "    \n",
    "# # Get the training, validation, and testing sets\n",
    "#     train_set_x = np.array(f['train_set_x'])\n",
    "#     train_set_y = np.array(f['train_set_y'])\n",
    "#     valid_set_x = np.array(f['valid_set_x'])\n",
    "#     valid_set_y = np.array(f['valid_set_y'])\n",
    "#     test_set_x = np.array(f['test_set_x'])\n",
    "#     test_set_y = np.array(f['test_set_y'])  \n",
    "\n",
    "# # Define the classes\n",
    "# classes = ['stable', 'unstable']\n",
    "\n",
    "# # Visualize a few images\n",
    "# # fig, axs = plt.subplots(2, 5, figsize=(10, 5))\n",
    "# # axs = axs.ravel()\n",
    "# # for i in range(10):\n",
    "# #     axs[i].imshow(train_set_x[i], cmap='gray')\n",
    "# #     axs[i].set_title(classes[train_set_y[i][0]])\n",
    "# #     axs[i].axis('off')\n",
    "# plt.imshow(train_set_x[0], cmap = 'gray')\n",
    "# plt.show()\n"
   ]
  },
  {
   "cell_type": "code",
   "execution_count": null,
   "id": "6537137c-e0d5-45f4-80e4-270c8ba593d3",
   "metadata": {},
   "outputs": [],
   "source": []
  }
 ],
 "metadata": {
  "kernelspec": {
   "display_name": "Python 3 (ipykernel)",
   "language": "python",
   "name": "python3"
  },
  "language_info": {
   "codemirror_mode": {
    "name": "ipython",
    "version": 3
   },
   "file_extension": ".py",
   "mimetype": "text/x-python",
   "name": "python",
   "nbconvert_exporter": "python",
   "pygments_lexer": "ipython3",
   "version": "3.9.7"
  }
 },
 "nbformat": 4,
 "nbformat_minor": 5
}
